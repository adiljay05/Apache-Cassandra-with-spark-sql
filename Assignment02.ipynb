{
 "cells": [
  {
   "cell_type": "code",
   "execution_count": 142,
   "id": "7e13420b",
   "metadata": {},
   "outputs": [
    {
     "name": "stderr",
     "output_type": "stream",
     "text": [
      "                                                                                \r"
     ]
    }
   ],
   "source": [
    "downloads_RDD = spark.read.csv(\"file:///home/jawad/assigment1/*.gz\", inferSchema = True, header = True)"
   ]
  },
  {
   "cell_type": "code",
   "execution_count": 143,
   "id": "c389e3a1",
   "metadata": {},
   "outputs": [],
   "source": [
    "#downloads_RDD=downloads_RDD.where(downloads_RDD.r_os!=\"NA\")\n",
    "downloads_RDD.createOrReplaceTempView('packages')"
   ]
  },
  {
   "cell_type": "code",
   "execution_count": 292,
   "id": "33ca4a49",
   "metadata": {},
   "outputs": [],
   "source": [
    "def insert_into_cassandra(query,table_name):\n",
    "    query.write.format(\"org.apache.spark.sql.cassandra\").\\\n",
    "    options(table=table_name, keyspace=\"assignment02\").save(mode=\"append\")"
   ]
  },
  {
   "cell_type": "code",
   "execution_count": 294,
   "id": "df32f30e",
   "metadata": {},
   "outputs": [
    {
     "name": "stderr",
     "output_type": "stream",
     "text": [
      "                                                                                \r"
     ]
    }
   ],
   "source": [
    "#---------------------------------    Question# 1   ---------------------------------------------------------\n",
    "#     Show number of downloads for package ggplot2 and dplyr.\n",
    "#------------------------------------------------------------------------------------------------------------\n",
    "query_results = spark.sql('SELECT package,count(*) as count FROM packages WHERE package\\\n",
    "                            IN(\"ggplot2\", \"dplyr\") GROUP BY package')\n",
    "insert_into_cassandra(query_results,\"question1\")"
   ]
  },
  {
   "cell_type": "code",
   "execution_count": 295,
   "id": "79f9510f",
   "metadata": {},
   "outputs": [
    {
     "name": "stderr",
     "output_type": "stream",
     "text": [
      "                                                                                \r"
     ]
    }
   ],
   "source": [
    "#---------------------------------    Question# 2   ---------------------------------------------------------\n",
    "#     Total number of downloads by each Operating System (group similar ones).\n",
    "#------------------------------------------------------------------------------------------------------------\n",
    "downloads_RDD1=downloads_RDD.where(downloads_RDD.r_os!=\"NA\")\n",
    "downloads_RDD1.createOrReplaceTempView('packages1')\n",
    "# removed NA's\n",
    "query_results = spark.sql('SELECT case when r_os like \"linux%\" THEN \"Linux\" ELSE case when r_os \\\n",
    "                          like \"darwin%\" Then \"Darwin\" Else \"Mingw\" END END as os, \\\n",
    "                          count(r_os) AS count FROM packages1 group by os order by count(*) desc')\n",
    "insert_into_cassandra(query_results,\"question2\")"
   ]
  },
  {
   "cell_type": "code",
   "execution_count": 296,
   "id": "88a3cf03",
   "metadata": {},
   "outputs": [
    {
     "name": "stderr",
     "output_type": "stream",
     "text": [
      "                                                                                \r"
     ]
    }
   ],
   "source": [
    "#---------------------------------    Question# 3   ---------------------------------------------------------\n",
    "#     Top 10 (distinct) largest sized packages\n",
    "#------------------------------------------------------------------------------------------------------------\n",
    "query_results = spark.sql('SELECT package as package,max(CAST(size AS int)) as size FROM packages \\\n",
    "                          group by package order by size desc limit 10')\n",
    "insert_into_cassandra(query_results,\"question3\")"
   ]
  },
  {
   "cell_type": "code",
   "execution_count": 297,
   "id": "468075bb",
   "metadata": {},
   "outputs": [
    {
     "name": "stderr",
     "output_type": "stream",
     "text": [
      "                                                                                \r"
     ]
    }
   ],
   "source": [
    "#---------------------------------    Question# 4   ---------------------------------------------------------\n",
    "#     What were the top 10 least popular (distinct) packages?\n",
    "#------------------------------------------------------------------------------------------------------------\n",
    "query_results = spark.sql('SELECT package as package,count(*) AS count FROM packages group by package\\\n",
    "                          order by count(*) limit 10')\n",
    "insert_into_cassandra(query_results,\"question4\")"
   ]
  },
  {
   "cell_type": "code",
   "execution_count": 298,
   "id": "4f9353db",
   "metadata": {},
   "outputs": [
    {
     "name": "stderr",
     "output_type": "stream",
     "text": [
      "                                                                                \r"
     ]
    }
   ],
   "source": [
    "#---------------------------------    Question# 5   ---------------------------------------------------------\n",
    "#     At what specific hour there are most of the download hits?\n",
    "#------------------------------------------------------------------------------------------------------------\n",
    "query_results = spark.sql('SELECT hour(time) as hour,count(*) AS count FROM packages group by\\\n",
    "                          hour(time) order by count(*) desc limit 1')\n",
    "insert_into_cassandra(query_results,\"question5\")"
   ]
  },
  {
   "cell_type": "code",
   "execution_count": 299,
   "id": "76deea8f",
   "metadata": {},
   "outputs": [
    {
     "name": "stderr",
     "output_type": "stream",
     "text": [
      "                                                                                \r"
     ]
    }
   ],
   "source": [
    "#---------------------------------    Question# 6   ---------------------------------------------------------\n",
    "#     What are the 5 most popular packages in UK? (Correction -> US)\n",
    "#------------------------------------------------------------------------------------------------------------\n",
    "query_results = spark.sql('SELECT package as package, count(*) AS count FROM packages where country=\"US\" \\\n",
    "                          group by package order by count(*) desc limit 5')\n",
    "insert_into_cassandra(query_results,\"question6\")"
   ]
  },
  {
   "cell_type": "code",
   "execution_count": 303,
   "id": "28a919b0",
   "metadata": {},
   "outputs": [
    {
     "name": "stderr",
     "output_type": "stream",
     "text": [
      "                                                                                \r"
     ]
    }
   ],
   "source": [
    "#---------------------------------    Question# 7   ---------------------------------------------------------\n",
    "#     Show all packages downloaded by the machine with highest number of downloads?\n",
    "#------------------------------------------------------------------------------------------------------------\n",
    "query_results = spark.sql('SELECT ip_id, count(*) AS Count FROM packages group by ip_id order by count(*) desc')\n",
    "highest_ip_id = query_results.take(1)[0][0]\n",
    "query_results1 = spark.sql('SELECT package as package,count(1) as count from packages where\\\n",
    "                           ip_id=\"'+str(highest_ip_id)+'\" group by package order by count(1) desc')\n",
    "insert_into_cassandra(query_results1,\"question7\")"
   ]
  },
  {
   "cell_type": "code",
   "execution_count": 304,
   "id": "be300adc",
   "metadata": {},
   "outputs": [
    {
     "name": "stderr",
     "output_type": "stream",
     "text": [
      "                                                                                \r"
     ]
    }
   ],
   "source": [
    "#---------------------------------    Question# 8   ---------------------------------------------------------\n",
    "#     Show top three OSs that are most popular among the R programmers?\n",
    "#------------------------------------------------------------------------------------------------------------\n",
    "# checking from removed NA's data\n",
    "query_results = spark.sql('SELECT case when r_os like \"linux%\" THEN \"Linux\" ELSE case when r_os \\\n",
    "                          like \"darwin%\" Then \"Darwin\" Else \"Mingw\" END END as os, COUNT(*) as count \\\n",
    "                          FROM packages1 GROUP BY OS ORDER BY COUNT(*) DESC limit 3')\n",
    "insert_into_cassandra(query_results,\"question8\")"
   ]
  },
  {
   "cell_type": "code",
   "execution_count": 305,
   "id": "12e7f99f",
   "metadata": {},
   "outputs": [
    {
     "name": "stderr",
     "output_type": "stream",
     "text": [
      "                                                                                \r"
     ]
    }
   ],
   "source": [
    "#---------------------------------    Question# 9   ---------------------------------------------------------\n",
    "#     . How many R users still use 32 bit machines?\n",
    "#------------------------------------------------------------------------------------------------------------\n",
    "query_results = spark.sql('SELECT COUNT(r_arch) as users_32_bit FROM packages where r_arch=\"i386\"')\n",
    "insert_into_cassandra(query_results,\"question9\")"
   ]
  },
  {
   "cell_type": "code",
   "execution_count": 306,
   "id": "4716a8c6",
   "metadata": {},
   "outputs": [
    {
     "name": "stderr",
     "output_type": "stream",
     "text": [
      "                                                                                \r"
     ]
    }
   ],
   "source": [
    "#---------------------------------    Question# 10   --------------------------------------------------------\n",
    "#     Show total number of downloads by each country, use ascending order?\n",
    "#------------------------------------------------------------------------------------------------------------\n",
    "query_results = spark.sql('SELECT country as country,count(*) AS download_count FROM packages \\\n",
    "                          group by country order by count(*)')\n",
    "insert_into_cassandra(query_results,\"question10\")"
   ]
  },
  {
   "cell_type": "code",
   "execution_count": 181,
   "id": "6b43ed3c",
   "metadata": {},
   "outputs": [],
   "source": []
  },
  {
   "cell_type": "code",
   "execution_count": null,
   "id": "61694668",
   "metadata": {},
   "outputs": [],
   "source": []
  }
 ],
 "metadata": {
  "kernelspec": {
   "display_name": "Python 3 (ipykernel)",
   "language": "python",
   "name": "python3"
  },
  "language_info": {
   "codemirror_mode": {
    "name": "ipython",
    "version": 3
   },
   "file_extension": ".py",
   "mimetype": "text/x-python",
   "name": "python",
   "nbconvert_exporter": "python",
   "pygments_lexer": "ipython3",
   "version": "3.8.10"
  }
 },
 "nbformat": 4,
 "nbformat_minor": 5
}
